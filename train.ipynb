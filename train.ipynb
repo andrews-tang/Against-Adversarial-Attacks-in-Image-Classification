{
 "cells": [
  {
   "cell_type": "markdown",
   "id": "1bcaa223-0724-44f9-ba20-e67d3c12566a",
   "metadata": {},
   "source": [
    "## Imports Here"
   ]
  },
  {
   "cell_type": "code",
   "execution_count": 1,
   "id": "e3f0f636-88bc-4081-b6f9-3212aaf3e4ca",
   "metadata": {},
   "outputs": [],
   "source": [
    "import torch\n",
    "import torch.nn as nn\n",
    "import torch.optim as optim\n",
    "import torchvision\n",
    "import torchvision.transforms as transforms\n",
    "from torchvision import models\n",
    "from torchvision.models import ResNet18_Weights"
   ]
  },
  {
   "cell_type": "code",
   "execution_count": 2,
   "id": "2adf21f6-fcef-42e5-be6e-909c70914723",
   "metadata": {},
   "outputs": [],
   "source": [
    "device = torch.device(\"cuda\" if torch.cuda.is_available() else \"cpu\")"
   ]
  },
  {
   "cell_type": "code",
   "execution_count": 3,
   "id": "51a4305a-2464-41a7-b5b7-b16552c0cafe",
   "metadata": {},
   "outputs": [
    {
     "data": {
      "text/plain": [
       "device(type='cuda')"
      ]
     },
     "execution_count": 3,
     "metadata": {},
     "output_type": "execute_result"
    }
   ],
   "source": [
    "device"
   ]
  },
  {
   "cell_type": "markdown",
   "id": "d5b466f3-f893-40dc-930b-863db4b1f741",
   "metadata": {},
   "source": [
    "## Loading the CIFAR10 dataset"
   ]
  },
  {
   "cell_type": "code",
   "execution_count": 4,
   "id": "db8193d6-efd2-41e0-90c9-1b606acfdc07",
   "metadata": {},
   "outputs": [],
   "source": [
    "def load_data(batch_size=64):\n",
    "    transform = transforms.Compose([\n",
    "        transforms.RandomHorizontalFlip(),\n",
    "        transforms.RandomCrop(32, padding=4),\n",
    "        transforms.ToTensor(),\n",
    "        transforms.Normalize((0.4914, 0.4822, 0.4465), (0.2023, 0.1994, 0.2010))\n",
    "    ])\n",
    "\n",
    "    trainset = torchvision.datasets.CIFAR10(root='./data', train=True, download=True, transform=transform)\n",
    "    trainloader = torch.utils.data.DataLoader(trainset, batch_size=batch_size, shuffle=True)\n",
    "\n",
    "    testset = torchvision.datasets.CIFAR10(root='./data', train=False, download=True, transform=transform)\n",
    "    testloader = torch.utils.data.DataLoader(testset, batch_size=batch_size, shuffle=False)\n",
    "\n",
    "    return trainloader, testloader\n"
   ]
  },
  {
   "cell_type": "markdown",
   "id": "570a7e43-80ef-46a0-a8b9-ae9f902b6ee0",
   "metadata": {},
   "source": [
    "## Loading a Pretrained Model - ResNet18"
   ]
  },
  {
   "cell_type": "code",
   "execution_count": 5,
   "id": "b348fb53-84aa-4f61-bc86-2a4b98a7f2db",
   "metadata": {},
   "outputs": [],
   "source": [
    "def build_model():\n",
    "    model = models.resnet18(weights=ResNet18_Weights.DEFAULT)\n",
    "    model.fc = nn.Linear(512, 10)  # Adjust the output layer for 10 classes (CIFAR-10)\n",
    "    return model.to(device)"
   ]
  },
  {
   "cell_type": "markdown",
   "id": "b296f294-793c-4a5d-917d-7501692f7ff1",
   "metadata": {},
   "source": [
    "## Training Loop"
   ]
  },
  {
   "cell_type": "code",
   "execution_count": 6,
   "id": "27223fff-a19c-4401-a964-74c072182e45",
   "metadata": {},
   "outputs": [],
   "source": [
    "def train_model(model, trainloader, testloader, epochs=10, lr=0.001):\n",
    "    criterion = nn.CrossEntropyLoss()\n",
    "    optimizer = optim.Adam(model.parameters(), lr=lr)\n",
    "\n",
    "    for epoch in range(epochs):\n",
    "        model.train()\n",
    "        running_loss = 0.0\n",
    "\n",
    "        # Training loop\n",
    "        for inputs, labels in trainloader:\n",
    "            inputs, labels = inputs.to(device), labels.to(device)\n",
    "\n",
    "            optimizer.zero_grad()\n",
    "\n",
    "            outputs = model(inputs)\n",
    "            loss = criterion(outputs, labels)\n",
    "            loss.backward()\n",
    "            optimizer.step()\n",
    "\n",
    "            running_loss += loss.item()\n",
    "\n",
    "        avg_train_loss = running_loss / len(trainloader)\n",
    "\n",
    "        # Evaluate the model on the test set\n",
    "        test_loss, accuracy = evaluate_model(model, testloader)\n",
    "\n",
    "        print(f\"Epoch [{epoch+1}/{epochs}] | \"\n",
    "              f\"Train Loss: {avg_train_loss:.4f} | \"\n",
    "              f\"Test Loss: {test_loss:.4f} | \"\n",
    "              f\"Test Accuracy: {accuracy:.2f}%\")\n",
    "\n",
    "    print('Finished Training')\n",
    "    return model\n",
    "\n",
    "\n",
    "def evaluate_model(model, testloader):\n",
    "    model.eval()  # Set the model to evaluation mode\n",
    "    correct = 0\n",
    "    total = 0\n",
    "    test_loss = 0.0\n",
    "    criterion = nn.CrossEntropyLoss()\n",
    "\n",
    "    with torch.no_grad():  # Disable gradient calculation for evaluation\n",
    "        for inputs, labels in testloader:\n",
    "            inputs, labels = inputs.to(device), labels.to(device)\n",
    "\n",
    "            outputs = model(inputs)\n",
    "            loss = criterion(outputs, labels)\n",
    "            test_loss += loss.item()\n",
    "\n",
    "            _, predicted = torch.max(outputs.data, 1)\n",
    "            total += labels.size(0)\n",
    "            correct += (predicted == labels).sum().item()\n",
    "\n",
    "    accuracy = 100 * correct / total\n",
    "    avg_test_loss = test_loss / len(testloader)\n",
    "    return avg_test_loss, accuracy"
   ]
  },
  {
   "cell_type": "code",
   "execution_count": 7,
   "id": "ed33e745-ce8a-4a25-9708-aaea947c05e3",
   "metadata": {},
   "outputs": [
    {
     "name": "stdout",
     "output_type": "stream",
     "text": [
      "Files already downloaded and verified\n",
      "Files already downloaded and verified\n",
      "Epoch [1/50] | Train Loss: 1.0982 | Test Loss: 0.8732 | Test Accuracy: 69.75%\n",
      "Epoch [2/50] | Train Loss: 0.8053 | Test Loss: 0.7469 | Test Accuracy: 75.21%\n",
      "Epoch [3/50] | Train Loss: 0.7116 | Test Loss: 0.6936 | Test Accuracy: 76.70%\n",
      "Epoch [4/50] | Train Loss: 0.6518 | Test Loss: 0.6425 | Test Accuracy: 78.40%\n",
      "Epoch [5/50] | Train Loss: 0.6404 | Test Loss: 0.6755 | Test Accuracy: 77.58%\n",
      "Epoch [6/50] | Train Loss: 0.5778 | Test Loss: 0.8223 | Test Accuracy: 75.04%\n",
      "Epoch [7/50] | Train Loss: 0.5470 | Test Loss: 0.5763 | Test Accuracy: 80.30%\n",
      "Epoch [8/50] | Train Loss: 0.5157 | Test Loss: 0.6582 | Test Accuracy: 79.39%\n",
      "Epoch [9/50] | Train Loss: 0.5086 | Test Loss: 0.5398 | Test Accuracy: 82.28%\n",
      "Epoch [10/50] | Train Loss: 0.4732 | Test Loss: 0.5439 | Test Accuracy: 81.27%\n",
      "Epoch [11/50] | Train Loss: 0.4693 | Test Loss: 0.5226 | Test Accuracy: 82.10%\n",
      "Epoch [12/50] | Train Loss: 0.4364 | Test Loss: 0.5073 | Test Accuracy: 83.05%\n",
      "Epoch [13/50] | Train Loss: 0.4247 | Test Loss: 0.5277 | Test Accuracy: 82.29%\n",
      "Epoch [14/50] | Train Loss: 0.4047 | Test Loss: 0.5481 | Test Accuracy: 81.54%\n",
      "Epoch [15/50] | Train Loss: 0.3898 | Test Loss: 0.5431 | Test Accuracy: 82.04%\n",
      "Epoch [16/50] | Train Loss: 0.4325 | Test Loss: 0.5210 | Test Accuracy: 82.44%\n",
      "Epoch [17/50] | Train Loss: 0.3679 | Test Loss: 0.4997 | Test Accuracy: 83.27%\n",
      "Epoch [18/50] | Train Loss: 0.3746 | Test Loss: 0.6462 | Test Accuracy: 82.71%\n",
      "Epoch [19/50] | Train Loss: 0.3489 | Test Loss: 0.5000 | Test Accuracy: 83.32%\n",
      "Epoch [20/50] | Train Loss: 0.3486 | Test Loss: 0.5431 | Test Accuracy: 83.99%\n",
      "Epoch [21/50] | Train Loss: 0.3352 | Test Loss: 0.4998 | Test Accuracy: 83.17%\n",
      "Epoch [22/50] | Train Loss: 0.3514 | Test Loss: 0.4981 | Test Accuracy: 83.46%\n",
      "Epoch [23/50] | Train Loss: 0.3162 | Test Loss: 0.4854 | Test Accuracy: 84.28%\n",
      "Epoch [24/50] | Train Loss: 0.3110 | Test Loss: 0.4915 | Test Accuracy: 84.28%\n",
      "Epoch [25/50] | Train Loss: 0.3067 | Test Loss: 0.5508 | Test Accuracy: 82.29%\n",
      "Epoch [26/50] | Train Loss: 0.3172 | Test Loss: 0.4723 | Test Accuracy: 84.12%\n",
      "Epoch [27/50] | Train Loss: 0.2903 | Test Loss: 0.4913 | Test Accuracy: 84.01%\n",
      "Epoch [28/50] | Train Loss: 0.2836 | Test Loss: 0.4714 | Test Accuracy: 84.59%\n",
      "Epoch [29/50] | Train Loss: 0.2765 | Test Loss: 0.4857 | Test Accuracy: 84.27%\n",
      "Epoch [30/50] | Train Loss: 0.2683 | Test Loss: 0.5179 | Test Accuracy: 83.24%\n",
      "Epoch [31/50] | Train Loss: 0.2635 | Test Loss: 0.4936 | Test Accuracy: 84.28%\n",
      "Epoch [32/50] | Train Loss: 0.2646 | Test Loss: 0.4847 | Test Accuracy: 84.46%\n",
      "Epoch [33/50] | Train Loss: 0.2524 | Test Loss: 0.4843 | Test Accuracy: 84.47%\n",
      "Epoch [34/50] | Train Loss: 0.2508 | Test Loss: 0.5017 | Test Accuracy: 84.05%\n",
      "Epoch [35/50] | Train Loss: 0.2400 | Test Loss: 0.4984 | Test Accuracy: 84.59%\n",
      "Epoch [36/50] | Train Loss: 0.2531 | Test Loss: 0.4693 | Test Accuracy: 84.66%\n",
      "Epoch [37/50] | Train Loss: 0.2312 | Test Loss: 0.4861 | Test Accuracy: 84.81%\n",
      "Epoch [38/50] | Train Loss: 0.2305 | Test Loss: 1.1798 | Test Accuracy: 83.72%\n",
      "Epoch [39/50] | Train Loss: 0.2273 | Test Loss: 0.6087 | Test Accuracy: 84.58%\n",
      "Epoch [40/50] | Train Loss: 0.2163 | Test Loss: 0.4754 | Test Accuracy: 85.55%\n",
      "Epoch [41/50] | Train Loss: 0.2240 | Test Loss: 0.4882 | Test Accuracy: 84.75%\n",
      "Epoch [42/50] | Train Loss: 0.2149 | Test Loss: 0.5842 | Test Accuracy: 84.63%\n",
      "Epoch [43/50] | Train Loss: 0.2043 | Test Loss: 0.4985 | Test Accuracy: 84.98%\n",
      "Epoch [44/50] | Train Loss: 0.2142 | Test Loss: 0.5314 | Test Accuracy: 83.23%\n",
      "Epoch [45/50] | Train Loss: 0.2138 | Test Loss: 0.4726 | Test Accuracy: 85.43%\n",
      "Epoch [46/50] | Train Loss: 0.1941 | Test Loss: 0.5132 | Test Accuracy: 84.61%\n",
      "Epoch [47/50] | Train Loss: 0.1926 | Test Loss: 0.5189 | Test Accuracy: 84.87%\n",
      "Epoch [48/50] | Train Loss: 0.1929 | Test Loss: 0.5945 | Test Accuracy: 83.95%\n",
      "Epoch [49/50] | Train Loss: 0.1910 | Test Loss: 0.5065 | Test Accuracy: 84.56%\n",
      "Epoch [50/50] | Train Loss: 0.1892 | Test Loss: 0.5577 | Test Accuracy: 84.16%\n",
      "Finished Training\n"
     ]
    }
   ],
   "source": [
    "trainloader, testloader = load_data()\n",
    "model = build_model()\n",
    "trained_model = train_model(model, trainloader, testloader, epochs=50, lr=0.001)\n",
    "torch.save(trained_model.state_dict(), \"./models/resnet18_cifar10.pth\")"
   ]
  },
  {
   "cell_type": "code",
   "execution_count": null,
   "id": "7aa25388-df7b-4df5-aff7-8f53ffead081",
   "metadata": {},
   "outputs": [],
   "source": []
  }
 ],
 "metadata": {
  "kernelspec": {
   "display_name": "Python 3 (ipykernel)",
   "language": "python",
   "name": "python3"
  },
  "language_info": {
   "codemirror_mode": {
    "name": "ipython",
    "version": 3
   },
   "file_extension": ".py",
   "mimetype": "text/x-python",
   "name": "python",
   "nbconvert_exporter": "python",
   "pygments_lexer": "ipython3",
   "version": "3.11.8"
  }
 },
 "nbformat": 4,
 "nbformat_minor": 5
}
