{
 "cells": [
  {
   "cell_type": "markdown",
   "id": "1bcaa223-0724-44f9-ba20-e67d3c12566a",
   "metadata": {},
   "source": [
    "## Imports Here"
   ]
  },
  {
   "cell_type": "code",
   "execution_count": 38,
   "id": "e3f0f636-88bc-4081-b6f9-3212aaf3e4ca",
   "metadata": {},
   "outputs": [],
   "source": [
    "import numpy as np\n",
    "import matplotlib.pyplot as plt\n",
    "\n",
    "import torch\n",
    "import torch.nn as nn\n",
    "import torch.optim as optim\n",
    "import torchvision\n",
    "import torchattacks\n",
    "import torchvision.transforms as transforms\n",
    "from torchvision import models\n",
    "from torchvision.models import ResNet18_Weights"
   ]
  },
  {
   "cell_type": "code",
   "execution_count": 2,
   "id": "2adf21f6-fcef-42e5-be6e-909c70914723",
   "metadata": {},
   "outputs": [],
   "source": [
    "device = torch.device(\"cuda\" if torch.cuda.is_available() else \"cpu\")"
   ]
  },
  {
   "cell_type": "code",
   "execution_count": 3,
   "id": "51a4305a-2464-41a7-b5b7-b16552c0cafe",
   "metadata": {},
   "outputs": [
    {
     "data": {
      "text/plain": [
       "device(type='cuda')"
      ]
     },
     "execution_count": 3,
     "metadata": {},
     "output_type": "execute_result"
    }
   ],
   "source": [
    "device"
   ]
  },
  {
   "cell_type": "markdown",
   "id": "d5b466f3-f893-40dc-930b-863db4b1f741",
   "metadata": {},
   "source": [
    "## Loading the CIFAR10 dataset"
   ]
  },
  {
   "cell_type": "code",
   "execution_count": 4,
   "id": "db8193d6-efd2-41e0-90c9-1b606acfdc07",
   "metadata": {},
   "outputs": [],
   "source": [
    "def load_data(batch_size=64):\n",
    "    transform = transforms.Compose([\n",
    "        transforms.RandomHorizontalFlip(),\n",
    "        transforms.RandomCrop(32, padding=4),\n",
    "        transforms.ToTensor(),\n",
    "        transforms.Normalize((0.4914, 0.4822, 0.4465), (0.2023, 0.1994, 0.2010))\n",
    "    ])\n",
    "\n",
    "    trainset = torchvision.datasets.CIFAR10(root='./data', train=True, download=True, transform=transform)\n",
    "    trainloader = torch.utils.data.DataLoader(trainset, batch_size=batch_size, shuffle=True)\n",
    "\n",
    "    testset = torchvision.datasets.CIFAR10(root='./data', train=False, download=True, transform=transform)\n",
    "    testloader = torch.utils.data.DataLoader(testset, batch_size=batch_size, shuffle=False)\n",
    "\n",
    "    return trainloader, testloader\n"
   ]
  },
  {
   "cell_type": "markdown",
   "id": "570a7e43-80ef-46a0-a8b9-ae9f902b6ee0",
   "metadata": {},
   "source": [
    "## Loading a Pretrained Model - ResNet18"
   ]
  },
  {
   "cell_type": "code",
   "execution_count": 5,
   "id": "b348fb53-84aa-4f61-bc86-2a4b98a7f2db",
   "metadata": {},
   "outputs": [],
   "source": [
    "def build_model():\n",
    "    model = models.resnet18(weights=ResNet18_Weights.DEFAULT)\n",
    "    model.fc = nn.Linear(512, 10)  # Adjust the output layer for 10 classes (CIFAR-10)\n",
    "    return model.to(device)"
   ]
  },
  {
   "cell_type": "markdown",
   "id": "b296f294-793c-4a5d-917d-7501692f7ff1",
   "metadata": {},
   "source": [
    "## Training Loop"
   ]
  },
  {
   "cell_type": "code",
   "execution_count": 6,
   "id": "27223fff-a19c-4401-a964-74c072182e45",
   "metadata": {},
   "outputs": [],
   "source": [
    "def train_model(model, trainloader, testloader, epochs=10, lr=0.001):\n",
    "    criterion = nn.CrossEntropyLoss()\n",
    "    optimizer = optim.Adam(model.parameters(), lr=lr)\n",
    "\n",
    "    for epoch in range(epochs):\n",
    "        model.train()\n",
    "        running_loss = 0.0\n",
    "\n",
    "        # Training loop\n",
    "        for inputs, labels in trainloader:\n",
    "            inputs, labels = inputs.to(device), labels.to(device)\n",
    "\n",
    "            optimizer.zero_grad()\n",
    "\n",
    "            outputs = model(inputs)\n",
    "            loss = criterion(outputs, labels)\n",
    "            loss.backward()\n",
    "            optimizer.step()\n",
    "\n",
    "            running_loss += loss.item()\n",
    "\n",
    "        avg_train_loss = running_loss / len(trainloader)\n",
    "\n",
    "        # Evaluate the model on the test set\n",
    "        test_loss, accuracy = evaluate_model(model, testloader)\n",
    "\n",
    "        print(f\"Epoch [{epoch+1}/{epochs}] | \"\n",
    "              f\"Train Loss: {avg_train_loss:.4f} | \"\n",
    "              f\"Test Loss: {test_loss:.4f} | \"\n",
    "              f\"Test Accuracy: {accuracy:.2f}%\")\n",
    "\n",
    "    print('Finished Training')\n",
    "    return model\n",
    "\n",
    "\n",
    "def evaluate_model(model, testloader):\n",
    "    model.eval()  # Set the model to evaluation mode\n",
    "    correct = 0\n",
    "    total = 0\n",
    "    test_loss = 0.0\n",
    "    criterion = nn.CrossEntropyLoss()\n",
    "\n",
    "    with torch.no_grad():  # Disable gradient calculation for evaluation\n",
    "        for inputs, labels in testloader:\n",
    "            inputs, labels = inputs.to(device), labels.to(device)\n",
    "\n",
    "            outputs = model(inputs)\n",
    "            loss = criterion(outputs, labels)\n",
    "            test_loss += loss.item()\n",
    "\n",
    "            _, predicted = torch.max(outputs.data, 1)\n",
    "            total += labels.size(0)\n",
    "            correct += (predicted == labels).sum().item()\n",
    "\n",
    "    accuracy = 100 * correct / total\n",
    "    avg_test_loss = test_loss / len(testloader)\n",
    "    return avg_test_loss, accuracy"
   ]
  },
  {
   "cell_type": "code",
   "execution_count": null,
   "id": "ed33e745-ce8a-4a25-9708-aaea947c05e3",
   "metadata": {},
   "outputs": [
    {
     "name": "stdout",
     "output_type": "stream",
     "text": [
      "Files already downloaded and verified\n",
      "Files already downloaded and verified\n",
      "Epoch [1/50] | Train Loss: 1.1058 | Test Loss: 0.8601 | Test Accuracy: 70.86%\n",
      "Epoch [2/50] | Train Loss: 0.8094 | Test Loss: 0.7627 | Test Accuracy: 74.37%\n",
      "Epoch [3/50] | Train Loss: 0.7275 | Test Loss: 0.7008 | Test Accuracy: 75.74%\n",
      "Epoch [4/50] | Train Loss: 0.6530 | Test Loss: 0.7205 | Test Accuracy: 75.76%\n",
      "Epoch [5/50] | Train Loss: 0.6052 | Test Loss: 0.6317 | Test Accuracy: 77.84%\n",
      "Epoch [6/50] | Train Loss: 0.5735 | Test Loss: 0.5948 | Test Accuracy: 79.50%\n",
      "Epoch [7/50] | Train Loss: 0.5469 | Test Loss: 0.6277 | Test Accuracy: 78.84%\n",
      "Epoch [8/50] | Train Loss: 0.5347 | Test Loss: 0.7542 | Test Accuracy: 76.30%\n",
      "Epoch [9/50] | Train Loss: 0.5012 | Test Loss: 0.5614 | Test Accuracy: 80.99%\n",
      "Epoch [10/50] | Train Loss: 0.4794 | Test Loss: 0.5617 | Test Accuracy: 80.68%\n",
      "Epoch [11/50] | Train Loss: 0.4644 | Test Loss: 0.5142 | Test Accuracy: 82.56%\n",
      "Epoch [12/50] | Train Loss: 0.4365 | Test Loss: 0.5143 | Test Accuracy: 82.46%\n",
      "Epoch [13/50] | Train Loss: 0.4168 | Test Loss: 0.5271 | Test Accuracy: 82.49%\n",
      "Epoch [14/50] | Train Loss: 0.4165 | Test Loss: 0.4931 | Test Accuracy: 83.15%\n",
      "Epoch [15/50] | Train Loss: 0.3978 | Test Loss: 0.4952 | Test Accuracy: 83.38%\n",
      "Epoch [16/50] | Train Loss: 0.3733 | Test Loss: 0.4847 | Test Accuracy: 83.54%\n",
      "Epoch [17/50] | Train Loss: 0.3722 | Test Loss: 0.4974 | Test Accuracy: 82.79%\n",
      "Epoch [18/50] | Train Loss: 0.3853 | Test Loss: 0.5059 | Test Accuracy: 83.09%\n",
      "Epoch [19/50] | Train Loss: 0.3530 | Test Loss: 0.4905 | Test Accuracy: 84.03%\n",
      "Epoch [20/50] | Train Loss: 0.3364 | Test Loss: 0.4734 | Test Accuracy: 83.87%\n",
      "Epoch [21/50] | Train Loss: 0.3386 | Test Loss: 0.4818 | Test Accuracy: 83.83%\n",
      "Epoch [22/50] | Train Loss: 0.3302 | Test Loss: 0.6358 | Test Accuracy: 82.13%\n",
      "Epoch [23/50] | Train Loss: 0.3156 | Test Loss: 0.4760 | Test Accuracy: 84.20%\n",
      "Epoch [24/50] | Train Loss: 0.3077 | Test Loss: 0.4811 | Test Accuracy: 84.30%\n",
      "Epoch [25/50] | Train Loss: 0.2955 | Test Loss: 0.4956 | Test Accuracy: 83.83%\n",
      "Epoch [26/50] | Train Loss: 0.3099 | Test Loss: 0.4725 | Test Accuracy: 84.52%\n",
      "Epoch [27/50] | Train Loss: 0.2922 | Test Loss: 0.4751 | Test Accuracy: 84.23%\n",
      "Epoch [28/50] | Train Loss: 0.2850 | Test Loss: 0.4675 | Test Accuracy: 84.86%\n",
      "Epoch [29/50] | Train Loss: 0.2804 | Test Loss: 0.4763 | Test Accuracy: 84.43%\n",
      "Epoch [30/50] | Train Loss: 0.2693 | Test Loss: 0.4657 | Test Accuracy: 84.99%\n",
      "Epoch [31/50] | Train Loss: 0.2609 | Test Loss: 0.4898 | Test Accuracy: 83.87%\n",
      "Epoch [32/50] | Train Loss: 0.2575 | Test Loss: 0.4695 | Test Accuracy: 84.89%\n",
      "Epoch [33/50] | Train Loss: 0.2539 | Test Loss: 0.4673 | Test Accuracy: 85.17%\n",
      "Epoch [34/50] | Train Loss: 0.2790 | Test Loss: 0.4715 | Test Accuracy: 85.23%\n",
      "Epoch [35/50] | Train Loss: 0.2413 | Test Loss: 0.4656 | Test Accuracy: 85.28%\n",
      "Epoch [36/50] | Train Loss: 0.2419 | Test Loss: 0.4793 | Test Accuracy: 85.09%\n",
      "Epoch [37/50] | Train Loss: 0.2287 | Test Loss: 0.4791 | Test Accuracy: 84.98%\n"
     ]
    }
   ],
   "source": [
    "trainloader, testloader = load_data()\n",
    "model = build_model()\n",
    "trained_model = train_model(model, trainloader, testloader, epochs=50, lr=0.001)\n",
    "torch.save(trained_model.state_dict(), \"./models/resnet18_cifar10.pth\")"
   ]
  },
  {
   "cell_type": "markdown",
   "id": "3541a975-8a3e-49a5-984c-9db2d4c694f6",
   "metadata": {},
   "source": [
    "## Attacking the \"Normally\" Trained Model"
   ]
  },
  {
   "cell_type": "code",
   "execution_count": 42,
   "id": "56ad832b-89bc-45ff-b110-ae6a8a9fc9b5",
   "metadata": {},
   "outputs": [],
   "source": [
    "# Function to un-normalize the images to display them properly\n",
    "def unnormalize(img, mean, std):\n",
    "    img = img.clone()  # Clone the tensor to avoid modification\n",
    "    for t, m, s in zip(img, mean, std):\n",
    "        t.mul_(s).add_(m)  # Unnormalize each channel\n",
    "    return img\n",
    "\n",
    "# Load the trained model\n",
    "def load_model():\n",
    "    model = models.resnet18(weights=ResNet18_Weights.DEFAULT)\n",
    "    model.fc = torch.nn.Linear(512, 10)\n",
    "    model.load_state_dict(torch.load(\"./models/resnet18_cifar10.pth\"))\n",
    "    return model.to(device)\n",
    "\n",
    "# Display clean and adversarial examples side by side\n",
    "def display_images(clean_img, adv_img, label, pred_clean, pred_adv):\n",
    "    clean_img = clean_img.cpu().detach()\n",
    "    adv_img = adv_img.cpu().detach()\n",
    "\n",
    "    # Unnormalize the images for visualization\n",
    "    clean_img = unnormalize(clean_img, mean=[0.4914, 0.4822, 0.4465], std=[0.2023, 0.1994, 0.2010])\n",
    "    adv_img = unnormalize(adv_img, mean=[0.4914, 0.4822, 0.4465], std=[0.2023, 0.1994, 0.2010])\n",
    "\n",
    "    clean_img = np.transpose(clean_img.numpy(), (1, 2, 0))\n",
    "    adv_img = np.transpose(adv_img.numpy(), (1, 2, 0))\n",
    "\n",
    "    # Plot clean and adversarial images\n",
    "    fig, axs = plt.subplots(1, 2, figsize=(8, 4))\n",
    "    \n",
    "    axs[0].imshow(clean_img)\n",
    "    axs[0].set_title(f'Clean: Label {label}, Pred {pred_clean}')\n",
    "    axs[0].axis('off')\n",
    "    \n",
    "    axs[1].imshow(adv_img)\n",
    "    axs[1].set_title(f'Adversarial: Pred {pred_adv}')\n",
    "    axs[1].axis('off')\n",
    "\n",
    "    plt.show()\n",
    "\n",
    "# Apply FGSM attack and display images\n",
    "def apply_fgsm_attack(model, testloader, epsilon=0.03):\n",
    "    model.eval()  # Set model to evaluation mode\n",
    "    atk = torchattacks.FGSM(model, eps=epsilon)  # FGSM attack instance\n",
    "\n",
    "    correct_clean = 0\n",
    "    correct_adv = 0\n",
    "    total = 0\n",
    "\n",
    "    # We'll just display a few images for illustration\n",
    "    images_to_display = 5\n",
    "    display_count = 0\n",
    "\n",
    "    for inputs, labels in testloader:\n",
    "        inputs, labels = inputs.to(device), labels.to(device)\n",
    "\n",
    "        # Generate adversarial examples\n",
    "        adv_inputs = atk(inputs, labels)\n",
    "\n",
    "        # Test clean examples\n",
    "        outputs_clean = model(inputs)\n",
    "        _, predicted_clean = outputs_clean.max(1)\n",
    "\n",
    "        # Test adversarial examples\n",
    "        outputs_adv = model(adv_inputs)\n",
    "        _, predicted_adv = outputs_adv.max(1)\n",
    "\n",
    "        total += labels.size(0)\n",
    "        correct_clean += (predicted_clean == labels).sum().item()\n",
    "        correct_adv += (predicted_adv == labels).sum().item()\n",
    "\n",
    "        # Display a few examples\n",
    "        if display_count < images_to_display:\n",
    "            for i in range(min(images_to_display - display_count, inputs.size(0))):\n",
    "                display_images(inputs[i], adv_inputs[i], labels[i].item(), \n",
    "                               predicted_clean[i].item(), predicted_adv[i].item())\n",
    "                display_count += 1\n",
    "\n",
    "    print(f'Accuracy on clean examples: {100 * correct_clean / total:.2f}%')\n",
    "    print(f'Accuracy after FGSM attack: {100 * correct_adv / total:.2f}%')"
   ]
  },
  {
   "cell_type": "code",
   "execution_count": 46,
   "id": "90b8a9d1-f22f-46b8-825f-790975b38bb5",
   "metadata": {},
   "outputs": [
    {
     "name": "stdout",
     "output_type": "stream",
     "text": [
      "Files already downloaded and verified\n",
      "Files already downloaded and verified\n"
     ]
    },
    {
     "name": "stderr",
     "output_type": "stream",
     "text": [
      "Clipping input data to the valid range for imshow with RGB data ([0..1] for floats or [0..255] for integers).\n"
     ]
    },
    {
     "data": {
      "image/png": "[encoded data removed]",
      "text/plain": [
       "<Figure size 800x400 with 2 Axes>"
      ]
     },
     "metadata": {},
     "output_type": "display_data"
    },
    {
     "name": "stderr",
     "output_type": "stream",
     "text": [
      "Clipping input data to the valid range for imshow with RGB data ([0..1] for floats or [0..255] for integers).\n"
     ]
    },
    {
     "data": {
      "image/png": "[encoded data removed]",
      "text/plain": [
       "<Figure size 800x400 with 2 Axes>"
      ]
     },
     "metadata": {},
     "output_type": "display_data"
    },
    {
     "name": "stderr",
     "output_type": "stream",
     "text": [
      "Clipping input data to the valid range for imshow with RGB data ([0..1] for floats or [0..255] for integers).\n"
     ]
    },
    {
     "data": {
      "image/png": "[encoded data removed]",
      "text/plain": [
       "<Figure size 800x400 with 2 Axes>"
      ]
     },
     "metadata": {},
     "output_type": "display_data"
    },
    {
     "name": "stderr",
     "output_type": "stream",
     "text": [
      "Clipping input data to the valid range for imshow with RGB data ([0..1] for floats or [0..255] for integers).\n"
     ]
    },
    {
     "data": {
      "image/png": "[encoded data removed]",
      "text/plain": [
       "<Figure size 800x400 with 2 Axes>"
      ]
     },
     "metadata": {},
     "output_type": "display_data"
    },
    {
     "name": "stderr",
     "output_type": "stream",
     "text": [
      "Clipping input data to the valid range for imshow with RGB data ([0..1] for floats or [0..255] for integers).\n"
     ]
    },
    {
     "data": {
      "image/png": "[encoded data removed]",
      "text/plain": [
       "<Figure size 800x400 with 2 Axes>"
      ]
     },
     "metadata": {},
     "output_type": "display_data"
    },
    {
     "name": "stdout",
     "output_type": "stream",
     "text": [
      "Accuracy on clean examples: 85.00%\n",
      "Accuracy after FGSM attack: 43.60%\n"
     ]
    }
   ],
   "source": [
    "_, testloader = load_data(batch_size=64)\n",
    "model = load_model()\n",
    "apply_fgsm_attack(model, testloader, epsilon=0.001)"
   ]
  },
  {
   "cell_type": "code",
   "execution_count": null,
   "id": "c7de53a1-9e51-4b7b-bff0-94ca90969208",
   "metadata": {},
   "outputs": [],
   "source": []
  },
  {
   "cell_type": "code",
   "execution_count": null,
   "id": "6123864c-0a54-401d-a7fc-cfd1e6293446",
   "metadata": {},
   "outputs": [],
   "source": []
  },
  {
   "cell_type": "code",
   "execution_count": null,
   "id": "63daa10f-c67a-4ee3-b3f3-132fd6fdada5",
   "metadata": {},
   "outputs": [],
   "source": []
  },
  {
   "cell_type": "code",
   "execution_count": null,
   "id": "86a49a4d-8eaa-470d-96fe-f6e2ef01e793",
   "metadata": {},
   "outputs": [],
   "source": []
  },
  {
   "cell_type": "code",
   "execution_count": null,
   "id": "47aa23c3-f5ae-4511-a04c-618d8d8c7bde",
   "metadata": {},
   "outputs": [],
   "source": []
  },
  {
   "cell_type": "code",
   "execution_count": null,
   "id": "725d58d7-fcb3-4957-98ed-7bc21306a63d",
   "metadata": {},
   "outputs": [],
   "source": []
  },
  {
   "cell_type": "code",
   "execution_count": null,
   "id": "d1e6deb3-0ca9-4313-b6fe-9ed46fa983bd",
   "metadata": {},
   "outputs": [],
   "source": []
  },
  {
   "cell_type": "code",
   "execution_count": null,
   "id": "378d9474-ed18-4613-b632-40b4f0df7010",
   "metadata": {},
   "outputs": [],
   "source": []
  },
  {
   "cell_type": "code",
   "execution_count": null,
   "id": "6dc302b0-55e7-4931-9871-1e1d4e27aa33",
   "metadata": {},
   "outputs": [],
   "source": []
  },
  {
   "cell_type": "markdown",
   "id": "ce172141-f2ec-4afa-9fb6-d7dea580e1d6",
   "metadata": {},
   "source": [
    "## Adversarial Training"
   ]
  },
  {
   "cell_type": "code",
   "execution_count": null,
   "id": "7aa25388-df7b-4df5-aff7-8f53ffead081",
   "metadata": {},
   "outputs": [],
   "source": [
    "def adversarial_training(epochs=10, lr=0.001, epsilon=0.03):\n",
    "    trainloader, testloader = load_data(batch_size=64)  # Load both training and test data\n",
    "    model = build_model()\n",
    "\n",
    "    atk = torchattacks.FGSM(model, eps=epsilon)  # FGSM attack instance with epsilon value\n",
    "\n",
    "    optimizer = optim.Adam(model.parameters(), lr=lr)\n",
    "    criterion = nn.CrossEntropyLoss()\n",
    "\n",
    "    for epoch in range(epochs):\n",
    "        model.train()\n",
    "        running_loss = 0.0\n",
    "\n",
    "        for inputs, labels in trainloader:\n",
    "            inputs, labels = inputs.to(device), labels.to(device)\n",
    "\n",
    "            # Generate adversarial examples\n",
    "            adv_inputs = atk(inputs, labels)\n",
    "\n",
    "            # Mix clean and adversarial inputs\n",
    "            mixed_inputs = torch.cat([inputs, adv_inputs], 0)\n",
    "            mixed_labels = torch.cat([labels, labels], 0)\n",
    "\n",
    "            optimizer.zero_grad()\n",
    "            outputs = model(mixed_inputs)\n",
    "            loss = criterion(outputs, mixed_labels)\n",
    "            loss.backward()\n",
    "            optimizer.step()\n",
    "\n",
    "            running_loss += loss.item()\n",
    "\n",
    "        avg_train_loss = running_loss / len(trainloader)\n",
    "\n",
    "        # Evaluate the model on the test set after each epoch\n",
    "        test_loss, accuracy = evaluate_model(model, testloader)\n",
    "\n",
    "        print(f\"Epoch [{epoch+1}/{epochs}] | \"\n",
    "              f\"Train Loss: {avg_train_loss:.4f} | \"\n",
    "              f\"Test Loss: {test_loss:.4f} | \"\n",
    "              f\"Test Accuracy: {accuracy:.2f}%\")\n",
    "\n",
    "    print('Finished Adversarial Training')\n",
    "    torch.save(model.state_dict(), \"./models/adversarially_trained_model.pth\")"
   ]
  },
  {
   "cell_type": "code",
   "execution_count": null,
   "id": "ab085b24-1f1d-41f2-85aa-fa9b451faeae",
   "metadata": {},
   "outputs": [],
   "source": [
    "adversarial_training(epochs=50, lr=0.001, epsilon=0.03)"
   ]
  },
  {
   "cell_type": "code",
   "execution_count": null,
   "id": "b995ebf5-a244-4e07-ab67-02f3897aaae1",
   "metadata": {},
   "outputs": [],
   "source": []
  }
 ],
 "metadata": {
  "kernelspec": {
   "display_name": "Python 3 (ipykernel)",
   "language": "python",
   "name": "python3"
  },
  "language_info": {
   "codemirror_mode": {
    "name": "ipython",
    "version": 3
   },
   "file_extension": ".py",
   "mimetype": "text/x-python",
   "name": "python",
   "nbconvert_exporter": "python",
   "pygments_lexer": "ipython3",
   "version": "3.11.8"
  }
 },
 "nbformat": 4,
 "nbformat_minor": 5
}
